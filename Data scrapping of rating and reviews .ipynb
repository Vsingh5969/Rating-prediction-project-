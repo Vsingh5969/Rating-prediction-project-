{
 "cells": [
  {
   "cell_type": "code",
   "execution_count": 69,
   "id": "c432a09a",
   "metadata": {},
   "outputs": [],
   "source": [
    "import selenium\n",
    "from selenium import webdriver\n",
    "from selenium.webdriver.common.by import By\n",
    "from selenium.webdriver.support.ui import WebDriverWait\n",
    "from selenium.webdriver.support import expected_conditions as EC\n",
    "import time\n",
    "import requests\n",
    "from bs4 import BeautifulSoup\n",
    "import os\n",
    "import pandas as pd\n",
    "from selenium.common.exceptions import StaleElementReferenceException, NoSuchElementException,ElementNotInteractableException"
   ]
  },
  {
   "cell_type": "code",
   "execution_count": 70,
   "id": "9b0c0f58",
   "metadata": {},
   "outputs": [
    {
     "name": "stderr",
     "output_type": "stream",
     "text": [
      "<ipython-input-70-b87f01e77cdf>:1: DeprecationWarning: executable_path has been deprecated, please pass in a Service object\n",
      "  driver = webdriver.Chrome(\"chromedriver.exe\")\n"
     ]
    }
   ],
   "source": [
    "driver = webdriver.Chrome(\"chromedriver.exe\")"
   ]
  },
  {
   "cell_type": "code",
   "execution_count": 71,
   "id": "2e6a8885",
   "metadata": {},
   "outputs": [],
   "source": [
    "url=\"https://www.flipkart.com/hp-pavilion-gaming-ryzen-5-quad-core-3550h-8-gb-1-tb-hdd-windows-10-home-4-gb-graphics-nvidia-geforce-gtx-1650-15-ec0101ax-laptop/product-reviews/itma1af6bf593dc8?pid=COMFSFNVDXG74QXR&lid=LSTCOMFSFNVDXG74QXRY8FRH2&marketplace=FLIPKART&page=1\"\n",
    "driver.get(url)"
   ]
  },
  {
   "cell_type": "code",
   "execution_count": 106,
   "id": "9eb4a777",
   "metadata": {},
   "outputs": [],
   "source": [
    "Rating=[]\n",
    "Full_review=[]"
   ]
  },
  {
   "cell_type": "code",
   "execution_count": 74,
   "id": "6a4e5140",
   "metadata": {},
   "outputs": [],
   "source": [
    "try:\n",
    "    for i in range(0,200):\n",
    "        k=driver.find_elements(By.XPATH,\"//div[@class='_3LWZlK _1BLPMq']\")\n",
    "        \n",
    "        full_review=driver.find_elements(By.XPATH,\"//div[@class='t-ZTKy']\")\n",
    "        for t in k:\n",
    "            c=t.text\n",
    "            Rating.append(c)\n",
    "        \n",
    "        for k in full_review:\n",
    "            d=k.text\n",
    "            Full_review.append(d)\n",
    "\n",
    "except NoSuchElementException:\n",
    "    Rating.append(np.NaN)\n",
    "    Full_review.append(np.NaN)"
   ]
  },
  {
   "cell_type": "code",
   "execution_count": 75,
   "id": "0e3b61c7",
   "metadata": {},
   "outputs": [
    {
     "data": {
      "text/plain": [
       "(2000, 161, 2000)"
      ]
     },
     "execution_count": 75,
     "metadata": {},
     "output_type": "execute_result"
    }
   ],
   "source": [
    "len(Rating) ,len(review), len(Full_review)"
   ]
  },
  {
   "cell_type": "code",
   "execution_count": null,
   "id": "b89baef5",
   "metadata": {},
   "outputs": [],
   "source": []
  },
  {
   "cell_type": "code",
   "execution_count": 76,
   "id": "aa14a0af",
   "metadata": {},
   "outputs": [],
   "source": [
    "url=\"https://www.flipkart.com/nothing-phone-1-black-128-gb/product-reviews/itmeea53a564de47?pid=MOBGCYGPFEGDMYQR\"\n",
    "driver.get(url)"
   ]
  },
  {
   "cell_type": "code",
   "execution_count": 77,
   "id": "a7dc4c00",
   "metadata": {},
   "outputs": [],
   "source": [
    "try:\n",
    "    for i in range(0,200):\n",
    "        k=driver.find_elements(By.XPATH,\"//div[@class='_3LWZlK _1BLPMq']\")\n",
    "        \n",
    "        full_review=driver.find_elements(By.XPATH,\"//div[@class='t-ZTKy']\")\n",
    "        for t in k:\n",
    "            c=t.text\n",
    "            Rating.append(c)\n",
    "        \n",
    "        for k in full_review:\n",
    "            d=k.text\n",
    "            Full_review.append(d)\n",
    "except NoSuchElementException:\n",
    "    Rating.append(np.NaN)\n",
    "    Full_review.append(np.NaN)"
   ]
  },
  {
   "cell_type": "code",
   "execution_count": 78,
   "id": "937a05b6",
   "metadata": {},
   "outputs": [
    {
     "data": {
      "text/plain": [
       "(3600, 4000)"
      ]
     },
     "execution_count": 78,
     "metadata": {},
     "output_type": "execute_result"
    }
   ],
   "source": [
    "len(Rating), len(Full_review)\n"
   ]
  },
  {
   "cell_type": "code",
   "execution_count": 79,
   "id": "7aa1cca1",
   "metadata": {},
   "outputs": [],
   "source": [
    "url=\"https://www.flipkart.com/flipkart-smartbuy-wireless-bluetooth-headset-mic/product-reviews/itmf3vhgjgqkhu3g?pid=ACCEPSNZQ6ZHJYVY\"\n",
    "driver.get(url)"
   ]
  },
  {
   "cell_type": "code",
   "execution_count": 92,
   "id": "d038859e",
   "metadata": {},
   "outputs": [],
   "source": [
    "try:\n",
    "     for i in range(1,400):\n",
    "        k=driver.find_elements(By.XPATH,\"//div[@class='_3LWZlK _1BLPMq'  or @class='_3LWZlK _32lA32 _1BLPMq']\")\n",
    "        full_review=driver.find_elements(By.XPATH,\"//div[@class='t-ZTKy']\")\n",
    "        \n",
    "        for t in k:\n",
    "            c=t.text\n",
    "            Rating.append(c)\n",
    "        for k in full_review:\n",
    "            d=k.text\n",
    "            Full_review.append(d)\n",
    "            \n",
    "except NoSuchElementException:\n",
    "    pass"
   ]
  },
  {
   "cell_type": "code",
   "execution_count": 93,
   "id": "ee227082",
   "metadata": {},
   "outputs": [
    {
     "data": {
      "text/plain": [
       "(3192, 3990)"
      ]
     },
     "execution_count": 93,
     "metadata": {},
     "output_type": "execute_result"
    }
   ],
   "source": [
    "len(Rating), len(Full_review)"
   ]
  },
  {
   "cell_type": "code",
   "execution_count": 96,
   "id": "59d0c4b5",
   "metadata": {},
   "outputs": [],
   "source": [
    "rate=Rating[0:3000]\n",
    "review=Full_review[0:3000]"
   ]
  },
  {
   "cell_type": "code",
   "execution_count": 98,
   "id": "8ebbdb43",
   "metadata": {},
   "outputs": [
    {
     "data": {
      "text/plain": [
       "3000"
      ]
     },
     "execution_count": 98,
     "metadata": {},
     "output_type": "execute_result"
    }
   ],
   "source": [
    "len(rate)\n",
    "len(review)"
   ]
  },
  {
   "cell_type": "code",
   "execution_count": 99,
   "id": "f10d618f",
   "metadata": {},
   "outputs": [],
   "source": [
    "url=\"https://www.flipkart.com/apple-iphone-11-green-128-gb/product-reviews/itm3a51d53dbcc0c?pid=MOBFKCTSQTWRS7Q8\"\n",
    "driver.get(url)"
   ]
  },
  {
   "cell_type": "code",
   "execution_count": 108,
   "id": "d95fdd25",
   "metadata": {},
   "outputs": [],
   "source": [
    "try:\n",
    "     for i in range(1,200):\n",
    "        k=driver.find_elements(By.XPATH,\"//div[@class='_3LWZlK _1BLPMq'  or @class='_3LWZlK _32lA32 _1BLPMq']\")\n",
    "        full_review=driver.find_elements(By.XPATH,\"//div[@class='t-ZTKy']\")\n",
    "        \n",
    "        for t in k:\n",
    "            c=t.text\n",
    "            Rating.append(c)\n",
    "        for k in full_review:\n",
    "            d=k.text\n",
    "            Full_review.append(d)\n",
    "            \n",
    "except NoSuchElementException:\n",
    "    \n",
    "    pass"
   ]
  },
  {
   "cell_type": "code",
   "execution_count": 109,
   "id": "9ce0a3db",
   "metadata": {},
   "outputs": [
    {
     "data": {
      "text/plain": [
       "(1990, 1990)"
      ]
     },
     "execution_count": 109,
     "metadata": {},
     "output_type": "execute_result"
    }
   ],
   "source": [
    "len(Rating), len(Full_review)"
   ]
  },
  {
   "cell_type": "code",
   "execution_count": 110,
   "id": "6f5281c6",
   "metadata": {},
   "outputs": [],
   "source": [
    "url=\"https://www.flipkart.com/samsung-galaxy-f23-5g-forest-green-128-gb/product-reviews/itm4001e68fda319?pid=MOBGBKQF3QM4GHWN\"\n",
    "driver.get(url)"
   ]
  },
  {
   "cell_type": "code",
   "execution_count": 111,
   "id": "49b77eb9",
   "metadata": {},
   "outputs": [],
   "source": [
    "try:\n",
    "     for i in range(1,200):\n",
    "        k=driver.find_elements(By.XPATH,\"//div[@class='_3LWZlK _1BLPMq'  or @class='_3LWZlK _32lA32 _1BLPMq']\")\n",
    "        full_review=driver.find_elements(By.XPATH,\"//div[@class='t-ZTKy']\")\n",
    "        \n",
    "        for t in k:\n",
    "            c=t.text\n",
    "            Rating.append(c)\n",
    "        for k in full_review:\n",
    "            d=k.text\n",
    "            Full_review.append(d)\n",
    "            \n",
    "except NoSuchElementException:\n",
    "    pass"
   ]
  },
  {
   "cell_type": "code",
   "execution_count": 112,
   "id": "3387910d",
   "metadata": {},
   "outputs": [
    {
     "data": {
      "text/plain": [
       "(3980, 3980)"
      ]
     },
     "execution_count": 112,
     "metadata": {},
     "output_type": "execute_result"
    }
   ],
   "source": [
    "len(Rating),len(Full_review)"
   ]
  },
  {
   "cell_type": "code",
   "execution_count": 113,
   "id": "2e3662d6",
   "metadata": {},
   "outputs": [],
   "source": [
    "url=\"https://www.flipkart.com/marq-flipkart-80cm-32-inch-hd-ready-led-tv/product-reviews/itmewmcbpqhht4df?pid=TVSEWMCBXTP4PJ3J\"\n",
    "driver.get(url)"
   ]
  },
  {
   "cell_type": "code",
   "execution_count": 114,
   "id": "aabaa071",
   "metadata": {},
   "outputs": [],
   "source": [
    "try:\n",
    "     for i in range(1,200):\n",
    "        k=driver.find_elements(By.XPATH,\"//div[@class='_3LWZlK _1BLPMq'  or @class='_3LWZlK _32lA32 _1BLPMq']\")\n",
    "        full_review=driver.find_elements(By.XPATH,\"//div[@class='t-ZTKy']\")\n",
    "        \n",
    "        for t in k:\n",
    "            c=t.text\n",
    "            Rating.append(c)\n",
    "        for k in full_review:\n",
    "            d=k.text\n",
    "            Full_review.append(d)\n",
    "            \n",
    "except NoSuchElementException:\n",
    "    pass"
   ]
  },
  {
   "cell_type": "code",
   "execution_count": 115,
   "id": "9aa2e747",
   "metadata": {},
   "outputs": [
    {
     "data": {
      "text/plain": [
       "(5970, 5970)"
      ]
     },
     "execution_count": 115,
     "metadata": {},
     "output_type": "execute_result"
    }
   ],
   "source": [
    "len(Rating),len(Full_review)"
   ]
  },
  {
   "cell_type": "code",
   "execution_count": 116,
   "id": "8784a382",
   "metadata": {},
   "outputs": [],
   "source": [
    "url=\"https://www.flipkart.com/samsung-80cm-32-inch-hd-ready-led-tv/product-reviews/itme8yrfm32d4xzn?pid=TVSE8YRFSUBEHZB6\"\n",
    "driver.get(url)"
   ]
  },
  {
   "cell_type": "code",
   "execution_count": 117,
   "id": "3827fef7",
   "metadata": {},
   "outputs": [],
   "source": [
    "try:\n",
    "     for i in range(1,300):\n",
    "        k=driver.find_elements(By.XPATH,\"//div[@class='_3LWZlK _1BLPMq'  or @class='_3LWZlK _32lA32 _1BLPMq']\")\n",
    "        full_review=driver.find_elements(By.XPATH,\"//div[@class='t-ZTKy']\")\n",
    "        \n",
    "        for t in k:\n",
    "            c=t.text\n",
    "            Rating.append(c)\n",
    "        for k in full_review:\n",
    "            d=k.text\n",
    "            Full_review.append(d)\n",
    "            \n",
    "except NoSuchElementException:\n",
    "    pass"
   ]
  },
  {
   "cell_type": "code",
   "execution_count": 118,
   "id": "29e22ae5",
   "metadata": {},
   "outputs": [
    {
     "data": {
      "text/plain": [
       "(8960, 8960)"
      ]
     },
     "execution_count": 118,
     "metadata": {},
     "output_type": "execute_result"
    }
   ],
   "source": [
    "len(Rating),len(Full_review)"
   ]
  },
  {
   "cell_type": "code",
   "execution_count": 119,
   "id": "ecb1ca88",
   "metadata": {},
   "outputs": [],
   "source": [
    "url=\"https://www.flipkart.com/oneplus-80cm-32-inch-hd-ready-led-smart-android-tv/product-reviews/itme650a6bb8cee3?pid=TVSFVWD2ENXYGEJY\"\n",
    "driver.get(url)"
   ]
  },
  {
   "cell_type": "code",
   "execution_count": 120,
   "id": "39c68183",
   "metadata": {},
   "outputs": [],
   "source": [
    "try:\n",
    "     for i in range(1,350):\n",
    "        k=driver.find_elements(By.XPATH,\"//div[@class='_3LWZlK _1BLPMq'  or @class='_3LWZlK _32lA32 _1BLPMq']\")\n",
    "        full_review=driver.find_elements(By.XPATH,\"//div[@class='t-ZTKy']\")\n",
    "        \n",
    "        for t in k:\n",
    "            c=t.text\n",
    "            Rating.append(c)\n",
    "        for k in full_review:\n",
    "            d=k.text\n",
    "            Full_review.append(d)\n",
    "            \n",
    "except NoSuchElementException:\n",
    "    pass"
   ]
  },
  {
   "cell_type": "code",
   "execution_count": 121,
   "id": "a51c6fe8",
   "metadata": {},
   "outputs": [
    {
     "data": {
      "text/plain": [
       "(12450, 12450)"
      ]
     },
     "execution_count": 121,
     "metadata": {},
     "output_type": "execute_result"
    }
   ],
   "source": [
    "len(Rating),len(Full_review)"
   ]
  },
  {
   "cell_type": "code",
   "execution_count": 122,
   "id": "8470e72c",
   "metadata": {},
   "outputs": [],
   "source": [
    "url=\"https://www.flipkart.com/mi-led-smart-tv-4a-80-cm-32/product-reviews/itmf2wyujh3gkdhg?pid=TVSF2WYUE4PWNJKM\"\n",
    "driver.get(url)"
   ]
  },
  {
   "cell_type": "code",
   "execution_count": 123,
   "id": "188f76c7",
   "metadata": {},
   "outputs": [],
   "source": [
    "try:\n",
    "     for i in range(1,400):\n",
    "        k=driver.find_elements(By.XPATH,\"//div[@class='_3LWZlK _1BLPMq'  or @class='_3LWZlK _32lA32 _1BLPMq']\")\n",
    "        full_review=driver.find_elements(By.XPATH,\"//div[@class='t-ZTKy']\")\n",
    "        \n",
    "        for t in k:\n",
    "            c=t.text\n",
    "            Rating.append(c)\n",
    "        for k in full_review:\n",
    "            d=k.text\n",
    "            Full_review.append(d)\n",
    "            \n",
    "except NoSuchElementException:\n",
    "    pass"
   ]
  },
  {
   "cell_type": "code",
   "execution_count": 124,
   "id": "42ded640",
   "metadata": {},
   "outputs": [
    {
     "data": {
      "text/plain": [
       "(16440, 16440)"
      ]
     },
     "execution_count": 124,
     "metadata": {},
     "output_type": "execute_result"
    }
   ],
   "source": [
    "len(Rating),len(Full_review)"
   ]
  },
  {
   "cell_type": "code",
   "execution_count": 125,
   "id": "c575a6f5",
   "metadata": {},
   "outputs": [],
   "source": [
    "url=\"https://www.flipkart.com/redmi-10-pacific-blue-64-gb/product-reviews/itm0f2a6a2112b75?pid=MOBGC9GYCHQZK9GW\"\n",
    "driver.get(url)"
   ]
  },
  {
   "cell_type": "code",
   "execution_count": 126,
   "id": "06af97df",
   "metadata": {},
   "outputs": [],
   "source": [
    "try:\n",
    "     for i in range(1,300):\n",
    "        k=driver.find_elements(By.XPATH,\"//div[@class='_3LWZlK _1BLPMq'  or @class='_3LWZlK _32lA32 _1BLPMq']\")\n",
    "        full_review=driver.find_elements(By.XPATH,\"//div[@class='t-ZTKy']\")\n",
    "        \n",
    "        for t in k:\n",
    "            c=t.text\n",
    "            Rating.append(c)\n",
    "        for k in full_review:\n",
    "            d=k.text\n",
    "            Full_review.append(d)\n",
    "            \n",
    "except NoSuchElementException:\n",
    "    pass"
   ]
  },
  {
   "cell_type": "code",
   "execution_count": 128,
   "id": "b3518221",
   "metadata": {},
   "outputs": [
    {
     "data": {
      "text/plain": [
       "(19131, 19430)"
      ]
     },
     "execution_count": 128,
     "metadata": {},
     "output_type": "execute_result"
    }
   ],
   "source": [
    "len(Rating),len(Full_review)"
   ]
  },
  {
   "cell_type": "code",
   "execution_count": 130,
   "id": "cca52b77",
   "metadata": {},
   "outputs": [],
   "source": [
    "t_review=Full_review[0:19131]"
   ]
  },
  {
   "cell_type": "code",
   "execution_count": 132,
   "id": "91398884",
   "metadata": {},
   "outputs": [
    {
     "data": {
      "text/plain": [
       "(19131, 19131)"
      ]
     },
     "execution_count": 132,
     "metadata": {},
     "output_type": "execute_result"
    }
   ],
   "source": [
    "len(t_review),len(Rating)"
   ]
  },
  {
   "cell_type": "code",
   "execution_count": 133,
   "id": "5daf05bc",
   "metadata": {},
   "outputs": [],
   "source": [
    "url=\"https://www.flipkart.com/gionee-smart-life-smartwatch/product-reviews/itmee7eac83e9750?pid=SMWFHVH233FHFXHV\"\n",
    "driver.get(url)"
   ]
  },
  {
   "cell_type": "code",
   "execution_count": 134,
   "id": "eb3d57a2",
   "metadata": {},
   "outputs": [],
   "source": [
    "try:\n",
    "     for i in range(1,150):\n",
    "        k=driver.find_elements(By.XPATH,\"//div[@class='_3LWZlK _1BLPMq'  or @class='_3LWZlK _32lA32 _1BLPMq']\")\n",
    "        full_review=driver.find_elements(By.XPATH,\"//div[@class='t-ZTKy']\")\n",
    "        \n",
    "        for t in k:\n",
    "            c=t.text\n",
    "            Rating.append(c)\n",
    "        for k in full_review:\n",
    "            d=k.text\n",
    "            t_review.append(d)\n",
    "            \n",
    "except NoSuchElementException:\n",
    "    pass"
   ]
  },
  {
   "cell_type": "code",
   "execution_count": 135,
   "id": "43bfb155",
   "metadata": {},
   "outputs": [
    {
     "data": {
      "text/plain": [
       "(20621, 20621)"
      ]
     },
     "execution_count": 135,
     "metadata": {},
     "output_type": "execute_result"
    }
   ],
   "source": [
    "len(Rating),len(t_review)"
   ]
  },
  {
   "cell_type": "code",
   "execution_count": 139,
   "id": "5a53dfda",
   "metadata": {},
   "outputs": [],
   "source": [
    "df=pd.DataFrame({'Rating':Rating,'Review':t_review})"
   ]
  },
  {
   "cell_type": "code",
   "execution_count": 143,
   "id": "bb2e172c",
   "metadata": {},
   "outputs": [],
   "source": [
    "df.to_csv('rating and review.csv')"
   ]
  },
  {
   "cell_type": "code",
   "execution_count": null,
   "id": "3996d617",
   "metadata": {},
   "outputs": [],
   "source": []
  }
 ],
 "metadata": {
  "kernelspec": {
   "display_name": "Python 3",
   "language": "python",
   "name": "python3"
  },
  "language_info": {
   "codemirror_mode": {
    "name": "ipython",
    "version": 3
   },
   "file_extension": ".py",
   "mimetype": "text/x-python",
   "name": "python",
   "nbconvert_exporter": "python",
   "pygments_lexer": "ipython3",
   "version": "3.8.8"
  },
  "varInspector": {
   "cols": {
    "lenName": 16,
    "lenType": 16,
    "lenVar": 40
   },
   "kernels_config": {
    "python": {
     "delete_cmd_postfix": "",
     "delete_cmd_prefix": "del ",
     "library": "var_list.py",
     "varRefreshCmd": "print(var_dic_list())"
    },
    "r": {
     "delete_cmd_postfix": ") ",
     "delete_cmd_prefix": "rm(",
     "library": "var_list.r",
     "varRefreshCmd": "cat(var_dic_list()) "
    }
   },
   "types_to_exclude": [
    "module",
    "function",
    "builtin_function_or_method",
    "instance",
    "_Feature"
   ],
   "window_display": false
  }
 },
 "nbformat": 4,
 "nbformat_minor": 5
}
